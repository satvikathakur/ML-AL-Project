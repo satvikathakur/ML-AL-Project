{
 "cells": [
  {
   "cell_type": "code",
   "execution_count": 1,
   "metadata": {},
   "outputs": [],
   "source": [
    "\n",
    "from rouge import Rouge\n",
    "import os\n",
    "from nltk import tokenize"
   ]
  },
  {
   "cell_type": "code",
   "execution_count": 2,
   "metadata": {},
   "outputs": [],
   "source": [
    "from rouge import Rouge\n",
    "import os\n",
    "from nltk import tokenize\n",
    "import numpy as np\n",
    "import pandas as pd\n",
    "import pickle\n",
    "import sys\n",
    "import warnings\n",
    "warnings.filterwarnings(\"ignore\")\n",
    "import gensim\n",
    "import numpy as np\n",
    "from keras.preprocessing.text import Tokenizer\n",
    "from keras.preprocessing.sequence import pad_sequences\n",
    "\n",
    "import tensorflow as tf\n",
    "\n",
    "from tensorflow.keras import  layers, models\n",
    "import matplotlib.pyplot as plt\n",
    "import nltk"
   ]
  },
  {
   "cell_type": "code",
   "execution_count": 3,
   "metadata": {},
   "outputs": [],
   "source": [
    "import gensim\n",
    "import numpy as np\n",
    "from keras.preprocessing.text import Tokenizer\n",
    "from keras.preprocessing.sequence import pad_sequences\n",
    "\n",
    "import tensorflow as tf\n",
    "\n",
    "from tensorflow.keras import  layers, models\n",
    "import matplotlib.pyplot as plt\n",
    "import nltk"
   ]
  },
  {
   "cell_type": "code",
   "execution_count": 5,
   "metadata": {
    "scrolled": false
   },
   "outputs": [
    {
     "name": "stdout",
     "output_type": "stream",
     "text": [
      "\u001b[1mDownloading and preparing dataset cnn_dailymail/plain_text/3.0.0 (download: Unknown size, generated: Unknown size, total: Unknown size) to C:\\Users\\satvi\\tensorflow_datasets\\cnn_dailymail\\plain_text\\3.0.0...\u001b[0m\n"
     ]
    },
    {
     "data": {
      "application/vnd.jupyter.widget-view+json": {
       "model_id": "a8d608b0be3247ad82143a99d65d35b1",
       "version_major": 2,
       "version_minor": 0
      },
      "text/plain": [
       "HBox(children=(FloatProgress(value=1.0, bar_style='info', description='Dl Completed...', max=1.0, style=Progre…"
      ]
     },
     "metadata": {},
     "output_type": "display_data"
    },
    {
     "data": {
      "application/vnd.jupyter.widget-view+json": {
       "model_id": "aabdabb3906547ca8c76a97227dd371a",
       "version_major": 2,
       "version_minor": 0
      },
      "text/plain": [
       "HBox(children=(FloatProgress(value=1.0, bar_style='info', description='Dl Size...', max=1.0, style=ProgressSty…"
      ]
     },
     "metadata": {},
     "output_type": "display_data"
    },
    {
     "data": {
      "application/vnd.jupyter.widget-view+json": {
       "model_id": "acb2566a587f4735a19ee57153714b52",
       "version_major": 2,
       "version_minor": 0
      },
      "text/plain": [
       "HBox(children=(FloatProgress(value=1.0, bar_style='info', description='Extraction completed...', max=1.0, styl…"
      ]
     },
     "metadata": {},
     "output_type": "display_data"
    },
    {
     "name": "stdout",
     "output_type": "stream",
     "text": [
      "\n",
      "\n",
      "\n",
      "\n",
      "\n",
      "\n"
     ]
    },
    {
     "data": {
      "application/vnd.jupyter.widget-view+json": {
       "model_id": "",
       "version_major": 2,
       "version_minor": 0
      },
      "text/plain": [
       "HBox(children=(FloatProgress(value=1.0, bar_style='info', max=1.0), HTML(value='')))"
      ]
     },
     "metadata": {},
     "output_type": "display_data"
    },
    {
     "name": "stdout",
     "output_type": "stream",
     "text": [
      "Shuffling and writing examples to C:\\Users\\satvi\\tensorflow_datasets\\cnn_dailymail\\plain_text\\3.0.0.incomplete21LV69\\cnn_dailymail-train.tfrecord\n"
     ]
    },
    {
     "data": {
      "application/vnd.jupyter.widget-view+json": {
       "model_id": "d08765855352493895265c4bd1d30fde",
       "version_major": 2,
       "version_minor": 0
      },
      "text/plain": [
       "HBox(children=(FloatProgress(value=0.0, max=287113.0), HTML(value='')))"
      ]
     },
     "metadata": {},
     "output_type": "display_data"
    },
    {
     "data": {
      "application/vnd.jupyter.widget-view+json": {
       "model_id": "",
       "version_major": 2,
       "version_minor": 0
      },
      "text/plain": [
       "HBox(children=(FloatProgress(value=1.0, bar_style='info', max=1.0), HTML(value='')))"
      ]
     },
     "metadata": {},
     "output_type": "display_data"
    },
    {
     "name": "stdout",
     "output_type": "stream",
     "text": [
      "Shuffling and writing examples to C:\\Users\\satvi\\tensorflow_datasets\\cnn_dailymail\\plain_text\\3.0.0.incomplete21LV69\\cnn_dailymail-validation.tfrecord\n"
     ]
    },
    {
     "data": {
      "application/vnd.jupyter.widget-view+json": {
       "model_id": "390402b0aad84fca81474f8eef00bdf4",
       "version_major": 2,
       "version_minor": 0
      },
      "text/plain": [
       "HBox(children=(FloatProgress(value=0.0, max=13368.0), HTML(value='')))"
      ]
     },
     "metadata": {},
     "output_type": "display_data"
    },
    {
     "data": {
      "application/vnd.jupyter.widget-view+json": {
       "model_id": "",
       "version_major": 2,
       "version_minor": 0
      },
      "text/plain": [
       "HBox(children=(FloatProgress(value=1.0, bar_style='info', max=1.0), HTML(value='')))"
      ]
     },
     "metadata": {},
     "output_type": "display_data"
    },
    {
     "name": "stdout",
     "output_type": "stream",
     "text": [
      "Shuffling and writing examples to C:\\Users\\satvi\\tensorflow_datasets\\cnn_dailymail\\plain_text\\3.0.0.incomplete21LV69\\cnn_dailymail-test.tfrecord\n"
     ]
    },
    {
     "data": {
      "application/vnd.jupyter.widget-view+json": {
       "model_id": "073437ae120942308f5b1263c2519d61",
       "version_major": 2,
       "version_minor": 0
      },
      "text/plain": [
       "HBox(children=(FloatProgress(value=0.0, max=11490.0), HTML(value='')))"
      ]
     },
     "metadata": {},
     "output_type": "display_data"
    },
    {
     "name": "stdout",
     "output_type": "stream",
     "text": [
      "\u001b[1mDataset cnn_dailymail downloaded and prepared to C:\\Users\\satvi\\tensorflow_datasets\\cnn_dailymail\\plain_text\\3.0.0. Subsequent calls will reuse this data.\u001b[0m\n",
      "dict_keys(['test', 'train', 'validation'])\n"
     ]
    }
   ],
   "source": [
    "\n",
    "import tensorflow as tf\n",
    "import tensorflow_datasets as tfds\n",
    "data, info = tfds.load(name=\"cnn_dailymail\", with_info=True)\n",
    "print(data.keys())"
   ]
  },
  {
   "cell_type": "code",
   "execution_count": 30,
   "metadata": {},
   "outputs": [
    {
     "data": {
      "text/plain": [
       "{'test': <PrefetchDataset shapes: {article: (), highlights: ()}, types: {article: tf.string, highlights: tf.string}>,\n",
       " 'train': <PrefetchDataset shapes: {article: (), highlights: ()}, types: {article: tf.string, highlights: tf.string}>,\n",
       " 'validation': <PrefetchDataset shapes: {article: (), highlights: ()}, types: {article: tf.string, highlights: tf.string}>}"
      ]
     },
     "execution_count": 30,
     "metadata": {},
     "output_type": "execute_result"
    }
   ],
   "source": [
    "data"
   ]
  },
  {
   "cell_type": "code",
   "execution_count": 31,
   "metadata": {},
   "outputs": [],
   "source": [
    "x =pd.DataFrame(data['train'])\n",
    "Data = pd.DataFrame(x[0:900])"
   ]
  },
  {
   "cell_type": "code",
   "execution_count": 32,
   "metadata": {},
   "outputs": [
    {
     "data": {
      "text/plain": [
       "34868"
      ]
     },
     "execution_count": 32,
     "metadata": {},
     "output_type": "execute_result"
    }
   ],
   "source": [
    "\n",
    "# convert tensor to string\n",
    "\n",
    "t = []\n",
    "for i in Data.article:\n",
    "    i = (i.numpy().decode(\"utf-8\") )\n",
    "    i = tokenize.sent_tokenize(i)\n",
    "    t.append(i)\n",
    "    \n",
    "s = []\n",
    "for i in Data.highlights:\n",
    "    i = (i.numpy().decode(\"utf-8\") )\n",
    "    i = tokenize.sent_tokenize(i)\n",
    "    s.append(i)\n",
    "\n",
    "Data['article'] = t\n",
    "Data['highlights'] = s\n",
    "\n",
    "totalSentences = sum([len(i)for i in Data.article])\n",
    "totalSentences"
   ]
  },
  {
   "cell_type": "code",
   "execution_count": 33,
   "metadata": {},
   "outputs": [
    {
     "ename": "NameError",
     "evalue": "name 'sentences_doc' is not defined",
     "output_type": "error",
     "traceback": [
      "\u001b[1;31m---------------------------------------------------------------------------\u001b[0m",
      "\u001b[1;31mNameError\u001b[0m                                 Traceback (most recent call last)",
      "\u001b[1;32m<ipython-input-33-89e5c0ea633d>\u001b[0m in \u001b[0;36m<module>\u001b[1;34m\u001b[0m\n\u001b[0;32m     10\u001b[0m \u001b[0max2\u001b[0m \u001b[1;33m=\u001b[0m \u001b[0mfig\u001b[0m\u001b[1;33m.\u001b[0m\u001b[0madd_subplot\u001b[0m\u001b[1;33m(\u001b[0m\u001b[1;36m122\u001b[0m\u001b[1;33m)\u001b[0m \u001b[1;31m# Create another axes that shares the same x-axis as ax.\u001b[0m\u001b[1;33m\u001b[0m\u001b[1;33m\u001b[0m\u001b[0m\n\u001b[0;32m     11\u001b[0m \u001b[1;33m\u001b[0m\u001b[0m\n\u001b[1;32m---> 12\u001b[1;33m \u001b[0max\u001b[0m\u001b[1;33m.\u001b[0m\u001b[0mhist\u001b[0m\u001b[1;33m(\u001b[0m\u001b[0msentences_doc\u001b[0m\u001b[1;33m,\u001b[0m\u001b[0mbins\u001b[0m \u001b[1;33m=\u001b[0m \u001b[1;36m30\u001b[0m\u001b[1;33m,\u001b[0m\u001b[0mcolor\u001b[0m\u001b[1;33m=\u001b[0m\u001b[1;34m\"blue\"\u001b[0m\u001b[1;33m,\u001b[0m \u001b[0malpha\u001b[0m \u001b[1;33m=\u001b[0m \u001b[1;36m0.6\u001b[0m\u001b[1;33m,\u001b[0m\u001b[0mrwidth\u001b[0m\u001b[1;33m=\u001b[0m \u001b[1;36m0.8\u001b[0m\u001b[1;33m)\u001b[0m\u001b[1;33m\u001b[0m\u001b[1;33m\u001b[0m\u001b[0m\n\u001b[0m\u001b[0;32m     13\u001b[0m \u001b[0max\u001b[0m\u001b[1;33m.\u001b[0m\u001b[0mset_title\u001b[0m\u001b[1;33m(\u001b[0m\u001b[1;34m\"Text to summerize\"\u001b[0m\u001b[1;33m,\u001b[0m \u001b[0mfontsize\u001b[0m\u001b[1;33m=\u001b[0m\u001b[1;36m12\u001b[0m\u001b[1;33m)\u001b[0m\u001b[1;33m\u001b[0m\u001b[1;33m\u001b[0m\u001b[0m\n\u001b[0;32m     14\u001b[0m \u001b[1;33m\u001b[0m\u001b[0m\n",
      "\u001b[1;31mNameError\u001b[0m: name 'sentences_doc' is not defined"
     ]
    },
    {
     "data": {
      "image/png": "[encoded data removed]",
      "text/plain": [
       "<Figure size 1008x432 with 2 Axes>"
      ]
     },
     "metadata": {
      "needs_background": "light"
     },
     "output_type": "display_data"
    }
   ],
   "source": [
    "entences_doc = [len(i)for i in Data.article]\n",
    "#print(sentences_doc)\n",
    "summary_doc = [len(i)for i in Data.highlights]\n",
    "\n",
    "fig = plt.figure(figsize=(14,6)) # Create matplotlib figure\n",
    "fig.text(0.04, 0.5, 'Frequency', va='center', rotation='vertical',fontname = 'Times New Roman',fontsize = 16)\n",
    "fig.text(0.5, 0.04, 'Sentences length', ha='center',fontname = 'Times New Roman',fontsize = 16)\n",
    "fig.text(0.5, 1, 'CNN/Daily mail dataset', ha='center',fontname = 'Times New Roman',fontsize = 16)\n",
    "ax = fig.add_subplot(121) # Create matplotlib axes\n",
    "ax2 = fig.add_subplot(122) # Create another axes that shares the same x-axis as ax.\n",
    "\n",
    "ax.hist(sentences_doc,bins = 30,color=\"blue\", alpha = 0.6,rwidth= 0.8)\n",
    "ax.set_title(\"Text to summerize\", fontsize=12)\n",
    "\n",
    "ax2.hist(summary_doc,bins = 30,color=\"blue\", alpha = 0.6,rwidth= 0.8)\n",
    "ax2.set_title(\"summaries\", fontsize=12)\n",
    "\n",
    "plt.show()"
   ]
  },
  {
   "cell_type": "code",
   "execution_count": null,
   "metadata": {},
   "outputs": [],
   "source": [
    "# total numner of sentences in text \n",
    "totalSentences = sum([len(i)for i in Data.article])\n",
    "totalSentences"
   ]
  },
  {
   "cell_type": "code",
   "execution_count": null,
   "metadata": {},
   "outputs": [],
   "source": [
    "Data.reset_index(level=0, inplace=True)"
   ]
  },
  {
   "cell_type": "code",
   "execution_count": null,
   "metadata": {},
   "outputs": [],
   "source": [
    "\n",
    "# obtain the salience score for the response variable.\n",
    "\n",
    "alpha = 0.8\n",
    "cind = 0\n",
    "dt_smry_score = np.zeros((totalSentences, 3), dtype=object)\n",
    "for i,j in enumerate(Data.article):\n",
    "    sentences =j\n",
    "    summary = Data.highlights[i]\n",
    "    summary = \" \".join (Data.highlights[i])\n",
    "\n",
    "    for s in sentences:\n",
    "        dt_smry_score [cind, 0] = Data.index[i]\n",
    "        dt_smry_score [cind, 1] = s\n",
    "        try:\n",
    "            R1 = rouge.get_scores(s, summary)[0]['rouge-1']['f']\n",
    "            R2 = rouge.get_scores(s, summary)[0]['rouge-2']['f']\n",
    "            dt_smry_score [cind, 2] = alpha * R1 + (1 - alpha) * R2\n",
    "\n",
    "        except:\n",
    "            dt_smry_score [cind, 2] = -1\n",
    "        cind = cind+1"
   ]
  },
  {
   "cell_type": "code",
   "execution_count": null,
   "metadata": {},
   "outputs": [],
   "source": [
    "dt_smry_score[:,1][0]"
   ]
  },
  {
   "cell_type": "code",
   "execution_count": null,
   "metadata": {},
   "outputs": [],
   "source": [
    "sentences = dt_smry_score[:,1]\n",
    "#Load Google pre-trained words \n",
    "embedding_model = gensim.models.KeyedVectors.load_word2vec_format('https://s3.amazonaws.com/dl4j-distribution/GoogleNews-vectors-negative300.bin.gz',  binary=True,  limit=50000)"
   ]
  },
  {
   "cell_type": "code",
   "execution_count": null,
   "metadata": {},
   "outputs": [],
   "source": [
    "word_vectors = embedding_model.wv\n",
    "max_sen_len = 250\n",
    "#tokenize sentences\n",
    "tokenizer = Tokenizer(num_words=30000,filters='!\"#$%&()*+,-./:;<=>?@[\\\\]^_`{|}~\\t\\n\\'',lower=True)\n",
    "tokenizer.fit_on_texts(sentences)\n",
    "sequences = tokenizer.texts_to_sequences(sentences) # replace words with its wordid\n",
    "padded_sequences = pad_sequences(sequences,maxlen=max_sen_len)\n",
    "word_index = tokenizer.word_index\n",
    "# word embedding with 300 dimensions\n",
    "embedding_weights = {key: embedding_model[word] if word in word_vectors.vocab else\n",
    "                              np.random.uniform(-0.25, 0.25, word_vectors.vector_size)\n",
    "                        for word, key in word_index.items()}"
   ]
  },
  {
   "cell_type": "code",
   "execution_count": null,
   "metadata": {},
   "outputs": [],
   "source": [
    "embedding_weights[0] = np.zeros(word_vectors.vector_size)\n",
    "#Build a 3D array: 1D fnumber of sentences, 1D for the no of words and 1D for word embedding. \n",
    "embedded_sentences = np.stack([np.stack([embedding_weights[t] for t in s]) for s in padded_sequences])"
   ]
  },
  {
   "cell_type": "code",
   "execution_count": null,
   "metadata": {},
   "outputs": [],
   "source": [
    "\n",
    "input_output = np.array([]) # data + rouge score\n",
    "for i in range(len(data)):\n",
    "    input_output = np.append(input_output,np.array([ embedded_sentences[i] , dt_smry_score[i,2] ]) )"
   ]
  },
  {
   "cell_type": "code",
   "execution_count": null,
   "metadata": {},
   "outputs": [],
   "source": [
    "\n",
    "embedded_sentences.shape,len(data[:,2])"
   ]
  },
  {
   "cell_type": "code",
   "execution_count": null,
   "metadata": {},
   "outputs": [],
   "source": [
    "\n",
    "embedded_sentences[4].shape"
   ]
  },
  {
   "cell_type": "code",
   "execution_count": null,
   "metadata": {},
   "outputs": [],
   "source": [
    "num_parts = 8\n",
    "fileName = \"Embedding_saliency\"\n",
    "start = 0\n",
    "\n",
    "for i in range(num_parts):\n",
    "    print(\"writing part,\",i + 1)\n",
    "    f = open(fileName + str(i + 1) + \".pickle\", \"wb\")\n",
    "    if i < num_parts - 1:\n",
    "        pickle.dump(input_output[start:(i + 1) * len(input_output)//num_parts], f)\n",
    "    else:\n",
    "        pickle.dump(input_output[start:], f)\n",
    "    f.close()\n",
    "    start = (i + 1) * len(input_output)//num_parts\n",
    "    print(start)"
   ]
  },
  {
   "cell_type": "code",
   "execution_count": null,
   "metadata": {},
   "outputs": [],
   "source": []
  }
 ],
 "metadata": {
  "kernelspec": {
   "display_name": "Python 3",
   "language": "python",
   "name": "python3"
  },
  "language_info": {
   "codemirror_mode": {
    "name": "ipython",
    "version": 3
   },
   "file_extension": ".py",
   "mimetype": "text/x-python",
   "name": "python",
   "nbconvert_exporter": "python",
   "pygments_lexer": "ipython3",
   "version": "3.8.3"
  }
 },
 "nbformat": 4,
 "nbformat_minor": 2
}
